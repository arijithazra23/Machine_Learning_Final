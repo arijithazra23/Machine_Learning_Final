{
 "cells": [
  {
   "cell_type": "code",
   "execution_count": 2,
   "metadata": {},
   "outputs": [],
   "source": [
    "from gensim.models import Word2Vec,KeyedVectors\n",
    "import nltk\n",
    "import pandas"
   ]
  },
  {
   "cell_type": "code",
   "execution_count": 3,
   "metadata": {},
   "outputs": [],
   "source": [
    "## World News from 2008-Today"
   ]
  },
  {
   "cell_type": "code",
   "execution_count": 4,
   "metadata": {},
   "outputs": [],
   "source": [
    "##  https://www.kaggle.com/rootuser/worldnews-on-reddit"
   ]
  },
  {
   "cell_type": "code",
   "execution_count": 6,
   "metadata": {},
   "outputs": [
    {
     "data": {
      "application/javascript": [
       "\n",
       "        if (window._pyforest_update_imports_cell) { window._pyforest_update_imports_cell('import pandas as pd'); }\n",
       "    "
      ],
      "text/plain": [
       "<IPython.core.display.Javascript object>"
      ]
     },
     "metadata": {},
     "output_type": "display_data"
    }
   ],
   "source": [
    "df=pd.read_csv(r'D:\\ML\\Krish Naik Codes\\Codebasics\\datasets\\world_reddict_news_NLP_word2vec\\reddit_worldnews.csv')"
   ]
  },
  {
   "cell_type": "code",
   "execution_count": 7,
   "metadata": {},
   "outputs": [
    {
     "data": {
      "text/html": [
       "<div>\n",
       "<style scoped>\n",
       "    .dataframe tbody tr th:only-of-type {\n",
       "        vertical-align: middle;\n",
       "    }\n",
       "\n",
       "    .dataframe tbody tr th {\n",
       "        vertical-align: top;\n",
       "    }\n",
       "\n",
       "    .dataframe thead th {\n",
       "        text-align: right;\n",
       "    }\n",
       "</style>\n",
       "<table border=\"1\" class=\"dataframe\">\n",
       "  <thead>\n",
       "    <tr style=\"text-align: right;\">\n",
       "      <th></th>\n",
       "      <th>time_created</th>\n",
       "      <th>date_created</th>\n",
       "      <th>up_votes</th>\n",
       "      <th>down_votes</th>\n",
       "      <th>title</th>\n",
       "      <th>over_18</th>\n",
       "      <th>author</th>\n",
       "      <th>subreddit</th>\n",
       "    </tr>\n",
       "  </thead>\n",
       "  <tbody>\n",
       "    <tr>\n",
       "      <td>0</td>\n",
       "      <td>1201232046</td>\n",
       "      <td>2008-01-25</td>\n",
       "      <td>3</td>\n",
       "      <td>0</td>\n",
       "      <td>Scores killed in Pakistan clashes</td>\n",
       "      <td>False</td>\n",
       "      <td>polar</td>\n",
       "      <td>worldnews</td>\n",
       "    </tr>\n",
       "    <tr>\n",
       "      <td>1</td>\n",
       "      <td>1201232075</td>\n",
       "      <td>2008-01-25</td>\n",
       "      <td>2</td>\n",
       "      <td>0</td>\n",
       "      <td>Japan resumes refuelling mission</td>\n",
       "      <td>False</td>\n",
       "      <td>polar</td>\n",
       "      <td>worldnews</td>\n",
       "    </tr>\n",
       "    <tr>\n",
       "      <td>2</td>\n",
       "      <td>1201232523</td>\n",
       "      <td>2008-01-25</td>\n",
       "      <td>3</td>\n",
       "      <td>0</td>\n",
       "      <td>US presses Egypt on Gaza border</td>\n",
       "      <td>False</td>\n",
       "      <td>polar</td>\n",
       "      <td>worldnews</td>\n",
       "    </tr>\n",
       "    <tr>\n",
       "      <td>3</td>\n",
       "      <td>1201233290</td>\n",
       "      <td>2008-01-25</td>\n",
       "      <td>1</td>\n",
       "      <td>0</td>\n",
       "      <td>Jump-start economy: Give health care to all</td>\n",
       "      <td>False</td>\n",
       "      <td>fadi420</td>\n",
       "      <td>worldnews</td>\n",
       "    </tr>\n",
       "    <tr>\n",
       "      <td>4</td>\n",
       "      <td>1201274720</td>\n",
       "      <td>2008-01-25</td>\n",
       "      <td>4</td>\n",
       "      <td>0</td>\n",
       "      <td>Council of Europe bashes EU&amp;UN terror blacklist</td>\n",
       "      <td>False</td>\n",
       "      <td>mhermans</td>\n",
       "      <td>worldnews</td>\n",
       "    </tr>\n",
       "  </tbody>\n",
       "</table>\n",
       "</div>"
      ],
      "text/plain": [
       "   time_created date_created  up_votes  down_votes  \\\n",
       "0    1201232046   2008-01-25         3           0   \n",
       "1    1201232075   2008-01-25         2           0   \n",
       "2    1201232523   2008-01-25         3           0   \n",
       "3    1201233290   2008-01-25         1           0   \n",
       "4    1201274720   2008-01-25         4           0   \n",
       "\n",
       "                                             title  over_18    author  \\\n",
       "0                Scores killed in Pakistan clashes    False     polar   \n",
       "1                 Japan resumes refuelling mission    False     polar   \n",
       "2                  US presses Egypt on Gaza border    False     polar   \n",
       "3     Jump-start economy: Give health care to all     False   fadi420   \n",
       "4  Council of Europe bashes EU&UN terror blacklist    False  mhermans   \n",
       "\n",
       "   subreddit  \n",
       "0  worldnews  \n",
       "1  worldnews  \n",
       "2  worldnews  \n",
       "3  worldnews  \n",
       "4  worldnews  "
      ]
     },
     "execution_count": 7,
     "metadata": {},
     "output_type": "execute_result"
    }
   ],
   "source": [
    "df.head()"
   ]
  },
  {
   "cell_type": "code",
   "execution_count": 10,
   "metadata": {},
   "outputs": [],
   "source": [
    "newsTitle= df['title'].values"
   ]
  },
  {
   "cell_type": "code",
   "execution_count": 11,
   "metadata": {},
   "outputs": [
    {
     "data": {
      "text/plain": [
       "array(['Scores killed in Pakistan clashes',\n",
       "       'Japan resumes refuelling mission',\n",
       "       'US presses Egypt on Gaza border', ...,\n",
       "       'Professor receives Arab Researchers Award',\n",
       "       'Nigel Farage attacks response to Trump ambassador tweet',\n",
       "       'Palestinian wielding knife shot dead in West Bank: Israel police'],\n",
       "      dtype=object)"
      ]
     },
     "execution_count": 11,
     "metadata": {},
     "output_type": "execute_result"
    }
   ],
   "source": [
    "newsTitle"
   ]
  },
  {
   "cell_type": "code",
   "execution_count": 12,
   "metadata": {},
   "outputs": [],
   "source": [
    "newsVec= [nltk.word_tokenize(word)  for word in newsTitle]"
   ]
  },
  {
   "cell_type": "code",
   "execution_count": 23,
   "metadata": {},
   "outputs": [
    {
     "data": {
      "text/plain": [
       "[['Scores', 'killed', 'in', 'Pakistan', 'clashes'],\n",
       " ['Japan', 'resumes', 'refuelling', 'mission'],\n",
       " ['US', 'presses', 'Egypt', 'on', 'Gaza', 'border'],\n",
       " ['Jump-start', 'economy', ':', 'Give', 'health', 'care', 'to', 'all'],\n",
       " ['Council', 'of', 'Europe', 'bashes', 'EU', '&', 'UN', 'terror', 'blacklist'],\n",
       " ['Hay',\n",
       "  'presto',\n",
       "  '!',\n",
       "  'Farmer',\n",
       "  'unveils',\n",
       "  'the',\n",
       "  'illegal',\n",
       "  'mock-Tudor',\n",
       "  'castle',\n",
       "  'he',\n",
       "  'tried',\n",
       "  'to',\n",
       "  'hide',\n",
       "  'behind',\n",
       "  '40ft',\n",
       "  'hay',\n",
       "  'bales']]"
      ]
     },
     "execution_count": 23,
     "metadata": {},
     "output_type": "execute_result"
    }
   ],
   "source": [
    "newsVec[0:6]"
   ]
  },
  {
   "cell_type": "code",
   "execution_count": 24,
   "metadata": {},
   "outputs": [],
   "source": [
    "## min_count = Ignores all words with total frequency lower than this,\n",
    "## size = Dimensionality of the word vectors"
   ]
  },
  {
   "cell_type": "code",
   "execution_count": 25,
   "metadata": {},
   "outputs": [],
   "source": [
    "model =Word2Vec(newsVec, min_count=1, size=32)"
   ]
  },
  {
   "cell_type": "code",
   "execution_count": 26,
   "metadata": {},
   "outputs": [
    {
     "name": "stderr",
     "output_type": "stream",
     "text": [
      "D:\\AnacondaDistribution\\lib\\site-packages\\ipykernel_launcher.py:1: DeprecationWarning: Call to deprecated `most_similar` (Method will be removed in 4.0.0, use self.wv.most_similar() instead).\n",
      "  \"\"\"Entry point for launching an IPython kernel.\n"
     ]
    },
    {
     "data": {
      "text/plain": [
       "[('woman', 0.9698120355606079),\n",
       " ('girl', 0.9163768887519836),\n",
       " ('couple', 0.9078540802001953),\n",
       " ('boy', 0.9064452648162842),\n",
       " ('teenager', 0.8843153715133667),\n",
       " ('mother', 0.8737752437591553),\n",
       " ('doctor', 0.8624518513679504),\n",
       " ('father', 0.8439087271690369),\n",
       " ('teacher', 0.8333740830421448),\n",
       " ('pair', 0.8279893398284912)]"
      ]
     },
     "execution_count": 26,
     "metadata": {},
     "output_type": "execute_result"
    }
   ],
   "source": [
    "model.most_similar('man')"
   ]
  },
  {
   "cell_type": "code",
   "execution_count": 27,
   "metadata": {},
   "outputs": [
    {
     "name": "stderr",
     "output_type": "stream",
     "text": [
      "D:\\AnacondaDistribution\\lib\\site-packages\\ipykernel_launcher.py:1: DeprecationWarning: Call to deprecated `__getitem__` (Method will be removed in 4.0.0, use self.wv.__getitem__() instead).\n",
      "  \"\"\"Entry point for launching an IPython kernel.\n"
     ]
    },
    {
     "data": {
      "text/plain": [
       "array([-0.81726843, -0.9353234 ,  1.2091043 ,  2.9312348 , -1.959034  ,\n",
       "        5.254214  , -2.4772208 ,  3.7176478 , -4.1519384 , -3.6819208 ,\n",
       "       -1.3681005 , -1.4846821 , -2.0466125 ,  2.9612923 ,  2.5731196 ,\n",
       "       -3.7327216 ,  2.5898356 , -1.038425  ,  3.1174545 ,  4.5300035 ,\n",
       "        1.9923182 , -1.8414596 ,  1.6013441 ,  5.796162  ,  1.0124377 ,\n",
       "       -0.6174284 , -0.6588853 , -2.055892  , -0.49027744, -3.055251  ,\n",
       "        1.1241968 , -1.5190908 ], dtype=float32)"
      ]
     },
     "execution_count": 27,
     "metadata": {},
     "output_type": "execute_result"
    }
   ],
   "source": [
    "## Checking for the vector of man - see there are 32 dimension for man vector\n",
    "model['man']"
   ]
  },
  {
   "cell_type": "code",
   "execution_count": 28,
   "metadata": {},
   "outputs": [
    {
     "data": {
      "text/plain": [
       "array([-0.81726843, -0.9353234 ,  1.2091043 ,  2.9312348 , -1.959034  ,\n",
       "        5.254214  , -2.4772208 ,  3.7176478 , -4.1519384 , -3.6819208 ,\n",
       "       -1.3681005 , -1.4846821 , -2.0466125 ,  2.9612923 ,  2.5731196 ,\n",
       "       -3.7327216 ,  2.5898356 , -1.038425  ,  3.1174545 ,  4.5300035 ,\n",
       "        1.9923182 , -1.8414596 ,  1.6013441 ,  5.796162  ,  1.0124377 ,\n",
       "       -0.6174284 , -0.6588853 , -2.055892  , -0.49027744, -3.055251  ,\n",
       "        1.1241968 , -1.5190908 ], dtype=float32)"
      ]
     },
     "execution_count": 28,
     "metadata": {},
     "output_type": "execute_result"
    }
   ],
   "source": [
    "model.wv['man']     ### note that we have to write wv as the earlier version is deprecated"
   ]
  },
  {
   "cell_type": "code",
   "execution_count": 36,
   "metadata": {},
   "outputs": [
    {
     "data": {
      "text/plain": [
       "[('King', 0.9448696970939636),\n",
       " ('Abdullah', 0.7949719429016113),\n",
       " ('king', 0.7912024259567261),\n",
       " ('Rushdie', 0.7768967151641846),\n",
       " ('Salman', 0.7733070850372314),\n",
       " ('Queen', 0.7565121054649353),\n",
       " ('Farage', 0.7452090978622437),\n",
       " ('Prince', 0.7430576086044312),\n",
       " ('Princess', 0.7399957180023193),\n",
       " ('Youssef', 0.7281087636947632)]"
      ]
     },
     "execution_count": 36,
     "metadata": {},
     "output_type": "execute_result"
    }
   ],
   "source": [
    "vec = model.wv['King'] - model.wv['Man'] + model.wv['Woman']\n",
    "model.wv.most_similar([vec])"
   ]
  },
  {
   "cell_type": "code",
   "execution_count": 44,
   "metadata": {},
   "outputs": [
    {
     "data": {
      "text/plain": [
       "[('Paris', 0.8947889804840088),\n",
       " ('Brussels', 0.8849533796310425),\n",
       " ('Belgium', 0.8730214834213257),\n",
       " ('France', 0.8689694404602051),\n",
       " ('Nice', 0.8257503509521484),\n",
       " ('terror', 0.8206479549407959),\n",
       " ('Germany', 0.8146727085113525),\n",
       " ('Sweden', 0.8111059665679932),\n",
       " ('anti-terror', 0.8100314736366272),\n",
       " ('UK', 0.8043243885040283)]"
      ]
     },
     "execution_count": 44,
     "metadata": {},
     "output_type": "execute_result"
    }
   ],
   "source": [
    "new =model.wv['Germany'] - model.wv['Berlin'] + model.wv['Paris']\n",
    "model.wv.most_similar([new])"
   ]
  },
  {
   "cell_type": "code",
   "execution_count": 53,
   "metadata": {},
   "outputs": [
    {
     "data": {
      "text/plain": [
       "[('Freemarket', 0.7193623781204224),\n",
       " ('re-exporting', 0.7177491188049316),\n",
       " ('foreign-held', 0.7172889709472656),\n",
       " ('ticket-scalping', 0.7171501517295837),\n",
       " ('Russian-occupied', 0.7159987688064575),\n",
       " ('unchains', 0.7157806754112244),\n",
       " ('federalisation', 0.7137601375579834),\n",
       " ('VTB', 0.711498498916626),\n",
       " ('pseudonyms', 0.7108708620071411),\n",
       " ('anti-Vladimir', 0.7089041471481323)]"
      ]
     },
     "execution_count": 53,
     "metadata": {},
     "output_type": "execute_result"
    }
   ],
   "source": [
    "new2 = model.wv['Sachin'] - model.wv['cricket'] + model.wv['football']\n",
    "model.wv.most_similar([new2])"
   ]
  },
  {
   "cell_type": "code",
   "execution_count": null,
   "metadata": {},
   "outputs": [],
   "source": []
  },
  {
   "cell_type": "code",
   "execution_count": 37,
   "metadata": {},
   "outputs": [],
   "source": [
    "## Use skipgrams"
   ]
  },
  {
   "cell_type": "code",
   "execution_count": 38,
   "metadata": {},
   "outputs": [],
   "source": [
    "model =Word2Vec(newsVec, min_count=1, size=32,sg=1)  ##sg=  1=skipgrams , 0 = CBOW"
   ]
  },
  {
   "cell_type": "code",
   "execution_count": 39,
   "metadata": {},
   "outputs": [
    {
     "name": "stderr",
     "output_type": "stream",
     "text": [
      "D:\\AnacondaDistribution\\lib\\site-packages\\ipykernel_launcher.py:1: DeprecationWarning: Call to deprecated `most_similar` (Method will be removed in 4.0.0, use self.wv.most_similar() instead).\n",
      "  \"\"\"Entry point for launching an IPython kernel.\n"
     ]
    },
    {
     "data": {
      "text/plain": [
       "[('woman', 0.9567757248878479),\n",
       " ('teenager', 0.940100371837616),\n",
       " ('schoolboy', 0.9221105575561523),\n",
       " ('couple', 0.9188469648361206),\n",
       " ('14-year-old', 0.9146226644515991),\n",
       " ('16-year-old', 0.9097802042961121),\n",
       " ('teacher', 0.9073991179466248),\n",
       " ('grandmother', 0.9072074890136719),\n",
       " ('dentist', 0.9060174226760864),\n",
       " ('pensioner', 0.9045999050140381)]"
      ]
     },
     "execution_count": 39,
     "metadata": {},
     "output_type": "execute_result"
    }
   ],
   "source": [
    "model.most_similar('man')"
   ]
  },
  {
   "cell_type": "markdown",
   "metadata": {},
   "source": [
    "## Use a pre-trained model"
   ]
  },
  {
   "cell_type": "code",
   "execution_count": null,
   "metadata": {},
   "outputs": [],
   "source": [
    "## pre-trained Word2Vec is present in https://drive.google.com/file/d/0B7XkCwpI5KDYNlNUTTlSS21pQmM/edit"
   ]
  },
  {
   "cell_type": "code",
   "execution_count": null,
   "metadata": {},
   "outputs": [],
   "source": [
    "##    Download GoogleNews-vectors-negative300.bin.gz"
   ]
  },
  {
   "cell_type": "code",
   "execution_count": null,
   "metadata": {},
   "outputs": [],
   "source": [
    "model = KeyedVectors.load_word2vec_format('Google-News-x.bin-path to download Google \n",
    "                                          pretrained', binary=True, limit=10000)"
   ]
  },
  {
   "cell_type": "code",
   "execution_count": null,
   "metadata": {},
   "outputs": [],
   "source": []
  }
 ],
 "metadata": {
  "kernelspec": {
   "display_name": "Python 3",
   "language": "python",
   "name": "python3"
  },
  "language_info": {
   "codemirror_mode": {
    "name": "ipython",
    "version": 3
   },
   "file_extension": ".py",
   "mimetype": "text/x-python",
   "name": "python",
   "nbconvert_exporter": "python",
   "pygments_lexer": "ipython3",
   "version": "3.7.4"
  }
 },
 "nbformat": 4,
 "nbformat_minor": 2
}
