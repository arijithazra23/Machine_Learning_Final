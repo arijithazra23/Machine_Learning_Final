{
 "cells": [
  {
   "cell_type": "code",
   "execution_count": 139,
   "metadata": {},
   "outputs": [],
   "source": [
    "import numpy as np\n",
    "import pandas as pd\n",
    "import matplotlib.pyplot as plt\n",
    "%matplotlib inline\n",
    "from sklearn.metrics import f1_score\n",
    "from sklearn.metrics import confusion_matrix"
   ]
  },
  {
   "cell_type": "code",
   "execution_count": 140,
   "metadata": {},
   "outputs": [],
   "source": [
    "df_train= pd.read_csv('D:\\ML\\Hackerearth_submit\\8503d976798f11ea\\Dataset\\Train.csv')"
   ]
  },
  {
   "cell_type": "code",
   "execution_count": 141,
   "metadata": {},
   "outputs": [
    {
     "data": {
      "text/html": [
       "<div>\n",
       "<style scoped>\n",
       "    .dataframe tbody tr th:only-of-type {\n",
       "        vertical-align: middle;\n",
       "    }\n",
       "\n",
       "    .dataframe tbody tr th {\n",
       "        vertical-align: top;\n",
       "    }\n",
       "\n",
       "    .dataframe thead th {\n",
       "        text-align: right;\n",
       "    }\n",
       "</style>\n",
       "<table border=\"1\" class=\"dataframe\">\n",
       "  <thead>\n",
       "    <tr style=\"text-align: right;\">\n",
       "      <th></th>\n",
       "      <th>ID</th>\n",
       "      <th>comment</th>\n",
       "      <th>date</th>\n",
       "      <th>down</th>\n",
       "      <th>parent_comment</th>\n",
       "      <th>score</th>\n",
       "      <th>top</th>\n",
       "      <th>topic</th>\n",
       "      <th>user</th>\n",
       "      <th>label</th>\n",
       "    </tr>\n",
       "  </thead>\n",
       "  <tbody>\n",
       "    <tr>\n",
       "      <td>0</td>\n",
       "      <td>uid_590555</td>\n",
       "      <td>Well, let's be honest here, they don't actuall...</td>\n",
       "      <td>2015-04</td>\n",
       "      <td>0</td>\n",
       "      <td>They should shut the fuck up and let the commu...</td>\n",
       "      <td>2</td>\n",
       "      <td>2</td>\n",
       "      <td>starcitizen</td>\n",
       "      <td>Combat_Wombatz</td>\n",
       "      <td>0</td>\n",
       "    </tr>\n",
       "    <tr>\n",
       "      <td>1</td>\n",
       "      <td>uid_671762</td>\n",
       "      <td>Well, I didn't need evidence to believe in com...</td>\n",
       "      <td>2016-12</td>\n",
       "      <td>-1</td>\n",
       "      <td>You need evidence to kill people? I thought we...</td>\n",
       "      <td>6</td>\n",
       "      <td>-1</td>\n",
       "      <td>EnoughCommieSpam</td>\n",
       "      <td>starkadd</td>\n",
       "      <td>1</td>\n",
       "    </tr>\n",
       "    <tr>\n",
       "      <td>2</td>\n",
       "      <td>uid_519689</td>\n",
       "      <td>Who does an \"official promo\" in 360p?</td>\n",
       "      <td>2013-11</td>\n",
       "      <td>0</td>\n",
       "      <td>2014 BMW S1000R: Official Promo</td>\n",
       "      <td>3</td>\n",
       "      <td>3</td>\n",
       "      <td>motorcycles</td>\n",
       "      <td>phybere</td>\n",
       "      <td>0</td>\n",
       "    </tr>\n",
       "    <tr>\n",
       "      <td>3</td>\n",
       "      <td>uid_788362</td>\n",
       "      <td>Grotto koth was the best</td>\n",
       "      <td>2015-09</td>\n",
       "      <td>0</td>\n",
       "      <td>Not really that memorable lol if you want memo...</td>\n",
       "      <td>2</td>\n",
       "      <td>2</td>\n",
       "      <td>hcfactions</td>\n",
       "      <td>m0xyMC</td>\n",
       "      <td>1</td>\n",
       "    </tr>\n",
       "    <tr>\n",
       "      <td>4</td>\n",
       "      <td>uid_299252</td>\n",
       "      <td>Neal's back baby</td>\n",
       "      <td>2015-11</td>\n",
       "      <td>0</td>\n",
       "      <td>James Neal hit on Zach Parise</td>\n",
       "      <td>-5</td>\n",
       "      <td>-5</td>\n",
       "      <td>hockey</td>\n",
       "      <td>Somuch101</td>\n",
       "      <td>1</td>\n",
       "    </tr>\n",
       "  </tbody>\n",
       "</table>\n",
       "</div>"
      ],
      "text/plain": [
       "           ID                                            comment     date  \\\n",
       "0  uid_590555  Well, let's be honest here, they don't actuall...  2015-04   \n",
       "1  uid_671762  Well, I didn't need evidence to believe in com...  2016-12   \n",
       "2  uid_519689              Who does an \"official promo\" in 360p?  2013-11   \n",
       "3  uid_788362                           Grotto koth was the best  2015-09   \n",
       "4  uid_299252                                   Neal's back baby  2015-11   \n",
       "\n",
       "   down                                     parent_comment  score  top  \\\n",
       "0     0  They should shut the fuck up and let the commu...      2    2   \n",
       "1    -1  You need evidence to kill people? I thought we...      6   -1   \n",
       "2     0                    2014 BMW S1000R: Official Promo      3    3   \n",
       "3     0  Not really that memorable lol if you want memo...      2    2   \n",
       "4     0                      James Neal hit on Zach Parise     -5   -5   \n",
       "\n",
       "              topic            user  label  \n",
       "0       starcitizen  Combat_Wombatz      0  \n",
       "1  EnoughCommieSpam        starkadd      1  \n",
       "2       motorcycles         phybere      0  \n",
       "3        hcfactions          m0xyMC      1  \n",
       "4            hockey       Somuch101      1  "
      ]
     },
     "execution_count": 141,
     "metadata": {},
     "output_type": "execute_result"
    }
   ],
   "source": [
    "df_train.head()"
   ]
  },
  {
   "cell_type": "code",
   "execution_count": 142,
   "metadata": {},
   "outputs": [
    {
     "data": {
      "image/png": "[encoded data removed]",
      "text/plain": [
       "<Figure size 432x288 with 1 Axes>"
      ]
     },
     "metadata": {
      "needs_background": "light"
     },
     "output_type": "display_data"
    }
   ],
   "source": [
    "df_train.groupby('label')['label'].count().plot.bar()\n",
    "plt.show()"
   ]
  },
  {
   "cell_type": "code",
   "execution_count": 143,
   "metadata": {},
   "outputs": [],
   "source": [
    "## It is a balanced dataset"
   ]
  },
  {
   "cell_type": "code",
   "execution_count": 144,
   "metadata": {},
   "outputs": [],
   "source": [
    "data = df_train[['comment','parent_comment']]"
   ]
  },
  {
   "cell_type": "code",
   "execution_count": 145,
   "metadata": {},
   "outputs": [
    {
     "name": "stderr",
     "output_type": "stream",
     "text": [
      "D:\\AnacondaDistribution\\lib\\site-packages\\pandas\\core\\frame.py:4263: SettingWithCopyWarning: \n",
      "A value is trying to be set on a copy of a slice from a DataFrame\n",
      "\n",
      "See the caveats in the documentation: http://pandas.pydata.org/pandas-docs/stable/user_guide/indexing.html#returning-a-view-versus-a-copy\n",
      "  method=method,\n"
     ]
    }
   ],
   "source": [
    "data.replace('[^a-zA-Z]',' ',regex=True,inplace=True)"
   ]
  },
  {
   "cell_type": "code",
   "execution_count": 146,
   "metadata": {},
   "outputs": [
    {
     "data": {
      "text/html": [
       "<div>\n",
       "<style scoped>\n",
       "    .dataframe tbody tr th:only-of-type {\n",
       "        vertical-align: middle;\n",
       "    }\n",
       "\n",
       "    .dataframe tbody tr th {\n",
       "        vertical-align: top;\n",
       "    }\n",
       "\n",
       "    .dataframe thead th {\n",
       "        text-align: right;\n",
       "    }\n",
       "</style>\n",
       "<table border=\"1\" class=\"dataframe\">\n",
       "  <thead>\n",
       "    <tr style=\"text-align: right;\">\n",
       "      <th></th>\n",
       "      <th>comment</th>\n",
       "      <th>parent_comment</th>\n",
       "    </tr>\n",
       "  </thead>\n",
       "  <tbody>\n",
       "    <tr>\n",
       "      <td>0</td>\n",
       "      <td>Well  let s be honest here  they don t actuall...</td>\n",
       "      <td>They should shut the fuck up and let the commu...</td>\n",
       "    </tr>\n",
       "    <tr>\n",
       "      <td>1</td>\n",
       "      <td>Well  I didn t need evidence to believe in com...</td>\n",
       "      <td>You need evidence to kill people  I thought we...</td>\n",
       "    </tr>\n",
       "    <tr>\n",
       "      <td>2</td>\n",
       "      <td>Who does an  official promo  in    p</td>\n",
       "      <td>BMW S    R  Official Promo</td>\n",
       "    </tr>\n",
       "    <tr>\n",
       "      <td>3</td>\n",
       "      <td>Grotto koth was the best</td>\n",
       "      <td>Not really that memorable lol if you want memo...</td>\n",
       "    </tr>\n",
       "    <tr>\n",
       "      <td>4</td>\n",
       "      <td>Neal s back baby</td>\n",
       "      <td>James Neal hit on Zach Parise</td>\n",
       "    </tr>\n",
       "  </tbody>\n",
       "</table>\n",
       "</div>"
      ],
      "text/plain": [
       "                                             comment  \\\n",
       "0  Well  let s be honest here  they don t actuall...   \n",
       "1  Well  I didn t need evidence to believe in com...   \n",
       "2              Who does an  official promo  in    p    \n",
       "3                           Grotto koth was the best   \n",
       "4                                   Neal s back baby   \n",
       "\n",
       "                                      parent_comment  \n",
       "0  They should shut the fuck up and let the commu...  \n",
       "1  You need evidence to kill people  I thought we...  \n",
       "2                         BMW S    R  Official Promo  \n",
       "3  Not really that memorable lol if you want memo...  \n",
       "4                      James Neal hit on Zach Parise  "
      ]
     },
     "execution_count": 146,
     "metadata": {},
     "output_type": "execute_result"
    }
   ],
   "source": [
    "data.head()"
   ]
  },
  {
   "cell_type": "code",
   "execution_count": 147,
   "metadata": {},
   "outputs": [
    {
     "name": "stderr",
     "output_type": "stream",
     "text": [
      "D:\\AnacondaDistribution\\lib\\site-packages\\ipykernel_launcher.py:1: SettingWithCopyWarning: \n",
      "A value is trying to be set on a copy of a slice from a DataFrame.\n",
      "Try using .loc[row_indexer,col_indexer] = value instead\n",
      "\n",
      "See the caveats in the documentation: http://pandas.pydata.org/pandas-docs/stable/user_guide/indexing.html#returning-a-view-versus-a-copy\n",
      "  \"\"\"Entry point for launching an IPython kernel.\n",
      "D:\\AnacondaDistribution\\lib\\site-packages\\ipykernel_launcher.py:2: SettingWithCopyWarning: \n",
      "A value is trying to be set on a copy of a slice from a DataFrame.\n",
      "Try using .loc[row_indexer,col_indexer] = value instead\n",
      "\n",
      "See the caveats in the documentation: http://pandas.pydata.org/pandas-docs/stable/user_guide/indexing.html#returning-a-view-versus-a-copy\n",
      "  \n"
     ]
    }
   ],
   "source": [
    "data['comment']=data['comment'].str.lower()\n",
    "data['parent_comment']=data['parent_comment'].str.lower()"
   ]
  },
  {
   "cell_type": "code",
   "execution_count": 148,
   "metadata": {},
   "outputs": [
    {
     "data": {
      "text/html": [
       "<div>\n",
       "<style scoped>\n",
       "    .dataframe tbody tr th:only-of-type {\n",
       "        vertical-align: middle;\n",
       "    }\n",
       "\n",
       "    .dataframe tbody tr th {\n",
       "        vertical-align: top;\n",
       "    }\n",
       "\n",
       "    .dataframe thead th {\n",
       "        text-align: right;\n",
       "    }\n",
       "</style>\n",
       "<table border=\"1\" class=\"dataframe\">\n",
       "  <thead>\n",
       "    <tr style=\"text-align: right;\">\n",
       "      <th></th>\n",
       "      <th>comment</th>\n",
       "      <th>parent_comment</th>\n",
       "    </tr>\n",
       "  </thead>\n",
       "  <tbody>\n",
       "    <tr>\n",
       "      <td>0</td>\n",
       "      <td>well  let s be honest here  they don t actuall...</td>\n",
       "      <td>they should shut the fuck up and let the commu...</td>\n",
       "    </tr>\n",
       "    <tr>\n",
       "      <td>1</td>\n",
       "      <td>well  i didn t need evidence to believe in com...</td>\n",
       "      <td>you need evidence to kill people  i thought we...</td>\n",
       "    </tr>\n",
       "    <tr>\n",
       "      <td>2</td>\n",
       "      <td>who does an  official promo  in    p</td>\n",
       "      <td>bmw s    r  official promo</td>\n",
       "    </tr>\n",
       "    <tr>\n",
       "      <td>3</td>\n",
       "      <td>grotto koth was the best</td>\n",
       "      <td>not really that memorable lol if you want memo...</td>\n",
       "    </tr>\n",
       "    <tr>\n",
       "      <td>4</td>\n",
       "      <td>neal s back baby</td>\n",
       "      <td>james neal hit on zach parise</td>\n",
       "    </tr>\n",
       "  </tbody>\n",
       "</table>\n",
       "</div>"
      ],
      "text/plain": [
       "                                             comment  \\\n",
       "0  well  let s be honest here  they don t actuall...   \n",
       "1  well  i didn t need evidence to believe in com...   \n",
       "2              who does an  official promo  in    p    \n",
       "3                           grotto koth was the best   \n",
       "4                                   neal s back baby   \n",
       "\n",
       "                                      parent_comment  \n",
       "0  they should shut the fuck up and let the commu...  \n",
       "1  you need evidence to kill people  i thought we...  \n",
       "2                         bmw s    r  official promo  \n",
       "3  not really that memorable lol if you want memo...  \n",
       "4                      james neal hit on zach parise  "
      ]
     },
     "execution_count": 148,
     "metadata": {},
     "output_type": "execute_result"
    }
   ],
   "source": [
    "data.head()"
   ]
  },
  {
   "cell_type": "code",
   "execution_count": 149,
   "metadata": {},
   "outputs": [
    {
     "name": "stderr",
     "output_type": "stream",
     "text": [
      "D:\\AnacondaDistribution\\lib\\site-packages\\ipykernel_launcher.py:1: SettingWithCopyWarning: \n",
      "A value is trying to be set on a copy of a slice from a DataFrame.\n",
      "Try using .loc[row_indexer,col_indexer] = value instead\n",
      "\n",
      "See the caveats in the documentation: http://pandas.pydata.org/pandas-docs/stable/user_guide/indexing.html#returning-a-view-versus-a-copy\n",
      "  \"\"\"Entry point for launching an IPython kernel.\n"
     ]
    }
   ],
   "source": [
    "data['final_comment']=data[['comment','parent_comment']].apply(lambda x : ''.join(x),axis=1)"
   ]
  },
  {
   "cell_type": "code",
   "execution_count": 150,
   "metadata": {},
   "outputs": [
    {
     "data": {
      "text/html": [
       "<div>\n",
       "<style scoped>\n",
       "    .dataframe tbody tr th:only-of-type {\n",
       "        vertical-align: middle;\n",
       "    }\n",
       "\n",
       "    .dataframe tbody tr th {\n",
       "        vertical-align: top;\n",
       "    }\n",
       "\n",
       "    .dataframe thead th {\n",
       "        text-align: right;\n",
       "    }\n",
       "</style>\n",
       "<table border=\"1\" class=\"dataframe\">\n",
       "  <thead>\n",
       "    <tr style=\"text-align: right;\">\n",
       "      <th></th>\n",
       "      <th>comment</th>\n",
       "      <th>parent_comment</th>\n",
       "      <th>final_comment</th>\n",
       "    </tr>\n",
       "  </thead>\n",
       "  <tbody>\n",
       "    <tr>\n",
       "      <td>0</td>\n",
       "      <td>well  let s be honest here  they don t actuall...</td>\n",
       "      <td>they should shut the fuck up and let the commu...</td>\n",
       "      <td>well  let s be honest here  they don t actuall...</td>\n",
       "    </tr>\n",
       "    <tr>\n",
       "      <td>1</td>\n",
       "      <td>well  i didn t need evidence to believe in com...</td>\n",
       "      <td>you need evidence to kill people  i thought we...</td>\n",
       "      <td>well  i didn t need evidence to believe in com...</td>\n",
       "    </tr>\n",
       "    <tr>\n",
       "      <td>2</td>\n",
       "      <td>who does an  official promo  in    p</td>\n",
       "      <td>bmw s    r  official promo</td>\n",
       "      <td>who does an  official promo  in    p      bmw ...</td>\n",
       "    </tr>\n",
       "    <tr>\n",
       "      <td>3</td>\n",
       "      <td>grotto koth was the best</td>\n",
       "      <td>not really that memorable lol if you want memo...</td>\n",
       "      <td>grotto koth was the bestnot really that memora...</td>\n",
       "    </tr>\n",
       "    <tr>\n",
       "      <td>4</td>\n",
       "      <td>neal s back baby</td>\n",
       "      <td>james neal hit on zach parise</td>\n",
       "      <td>neal s back babyjames neal hit on zach parise</td>\n",
       "    </tr>\n",
       "  </tbody>\n",
       "</table>\n",
       "</div>"
      ],
      "text/plain": [
       "                                             comment  \\\n",
       "0  well  let s be honest here  they don t actuall...   \n",
       "1  well  i didn t need evidence to believe in com...   \n",
       "2              who does an  official promo  in    p    \n",
       "3                           grotto koth was the best   \n",
       "4                                   neal s back baby   \n",
       "\n",
       "                                      parent_comment  \\\n",
       "0  they should shut the fuck up and let the commu...   \n",
       "1  you need evidence to kill people  i thought we...   \n",
       "2                         bmw s    r  official promo   \n",
       "3  not really that memorable lol if you want memo...   \n",
       "4                      james neal hit on zach parise   \n",
       "\n",
       "                                       final_comment  \n",
       "0  well  let s be honest here  they don t actuall...  \n",
       "1  well  i didn t need evidence to believe in com...  \n",
       "2  who does an  official promo  in    p      bmw ...  \n",
       "3  grotto koth was the bestnot really that memora...  \n",
       "4      neal s back babyjames neal hit on zach parise  "
      ]
     },
     "execution_count": 150,
     "metadata": {},
     "output_type": "execute_result"
    }
   ],
   "source": [
    "data.head()"
   ]
  },
  {
   "cell_type": "code",
   "execution_count": 151,
   "metadata": {},
   "outputs": [],
   "source": [
    "df['final_comment']= data['final_comment']"
   ]
  },
  {
   "cell_type": "code",
   "execution_count": 152,
   "metadata": {},
   "outputs": [
    {
     "data": {
      "text/html": [
       "<div>\n",
       "<style scoped>\n",
       "    .dataframe tbody tr th:only-of-type {\n",
       "        vertical-align: middle;\n",
       "    }\n",
       "\n",
       "    .dataframe tbody tr th {\n",
       "        vertical-align: top;\n",
       "    }\n",
       "\n",
       "    .dataframe thead th {\n",
       "        text-align: right;\n",
       "    }\n",
       "</style>\n",
       "<table border=\"1\" class=\"dataframe\">\n",
       "  <thead>\n",
       "    <tr style=\"text-align: right;\">\n",
       "      <th></th>\n",
       "      <th>ID</th>\n",
       "      <th>comment</th>\n",
       "      <th>date</th>\n",
       "      <th>down</th>\n",
       "      <th>parent_comment</th>\n",
       "      <th>score</th>\n",
       "      <th>top</th>\n",
       "      <th>topic</th>\n",
       "      <th>user</th>\n",
       "      <th>label</th>\n",
       "      <th>final_comment</th>\n",
       "    </tr>\n",
       "  </thead>\n",
       "  <tbody>\n",
       "    <tr>\n",
       "      <td>0</td>\n",
       "      <td>uid_590555</td>\n",
       "      <td>Well, let's be honest here, they don't actuall...</td>\n",
       "      <td>2015-04</td>\n",
       "      <td>0</td>\n",
       "      <td>They should shut the fuck up and let the commu...</td>\n",
       "      <td>2</td>\n",
       "      <td>2</td>\n",
       "      <td>starcitizen</td>\n",
       "      <td>Combat_Wombatz</td>\n",
       "      <td>0</td>\n",
       "      <td>well  let s be honest here  they don t actuall...</td>\n",
       "    </tr>\n",
       "    <tr>\n",
       "      <td>1</td>\n",
       "      <td>uid_671762</td>\n",
       "      <td>Well, I didn't need evidence to believe in com...</td>\n",
       "      <td>2016-12</td>\n",
       "      <td>-1</td>\n",
       "      <td>You need evidence to kill people? I thought we...</td>\n",
       "      <td>6</td>\n",
       "      <td>-1</td>\n",
       "      <td>EnoughCommieSpam</td>\n",
       "      <td>starkadd</td>\n",
       "      <td>1</td>\n",
       "      <td>well  i didn t need evidence to believe in com...</td>\n",
       "    </tr>\n",
       "    <tr>\n",
       "      <td>2</td>\n",
       "      <td>uid_519689</td>\n",
       "      <td>Who does an \"official promo\" in 360p?</td>\n",
       "      <td>2013-11</td>\n",
       "      <td>0</td>\n",
       "      <td>2014 BMW S1000R: Official Promo</td>\n",
       "      <td>3</td>\n",
       "      <td>3</td>\n",
       "      <td>motorcycles</td>\n",
       "      <td>phybere</td>\n",
       "      <td>0</td>\n",
       "      <td>who does an  official promo  in    p      bmw ...</td>\n",
       "    </tr>\n",
       "    <tr>\n",
       "      <td>3</td>\n",
       "      <td>uid_788362</td>\n",
       "      <td>Grotto koth was the best</td>\n",
       "      <td>2015-09</td>\n",
       "      <td>0</td>\n",
       "      <td>Not really that memorable lol if you want memo...</td>\n",
       "      <td>2</td>\n",
       "      <td>2</td>\n",
       "      <td>hcfactions</td>\n",
       "      <td>m0xyMC</td>\n",
       "      <td>1</td>\n",
       "      <td>grotto koth was the bestnot really that memora...</td>\n",
       "    </tr>\n",
       "    <tr>\n",
       "      <td>4</td>\n",
       "      <td>uid_299252</td>\n",
       "      <td>Neal's back baby</td>\n",
       "      <td>2015-11</td>\n",
       "      <td>0</td>\n",
       "      <td>James Neal hit on Zach Parise</td>\n",
       "      <td>-5</td>\n",
       "      <td>-5</td>\n",
       "      <td>hockey</td>\n",
       "      <td>Somuch101</td>\n",
       "      <td>1</td>\n",
       "      <td>neal s back babyjames neal hit on zach parise</td>\n",
       "    </tr>\n",
       "  </tbody>\n",
       "</table>\n",
       "</div>"
      ],
      "text/plain": [
       "           ID                                            comment     date  \\\n",
       "0  uid_590555  Well, let's be honest here, they don't actuall...  2015-04   \n",
       "1  uid_671762  Well, I didn't need evidence to believe in com...  2016-12   \n",
       "2  uid_519689              Who does an \"official promo\" in 360p?  2013-11   \n",
       "3  uid_788362                           Grotto koth was the best  2015-09   \n",
       "4  uid_299252                                   Neal's back baby  2015-11   \n",
       "\n",
       "   down                                     parent_comment  score  top  \\\n",
       "0     0  They should shut the fuck up and let the commu...      2    2   \n",
       "1    -1  You need evidence to kill people? I thought we...      6   -1   \n",
       "2     0                    2014 BMW S1000R: Official Promo      3    3   \n",
       "3     0  Not really that memorable lol if you want memo...      2    2   \n",
       "4     0                      James Neal hit on Zach Parise     -5   -5   \n",
       "\n",
       "              topic            user  label  \\\n",
       "0       starcitizen  Combat_Wombatz      0   \n",
       "1  EnoughCommieSpam        starkadd      1   \n",
       "2       motorcycles         phybere      0   \n",
       "3        hcfactions          m0xyMC      1   \n",
       "4            hockey       Somuch101      1   \n",
       "\n",
       "                                       final_comment  \n",
       "0  well  let s be honest here  they don t actuall...  \n",
       "1  well  i didn t need evidence to believe in com...  \n",
       "2  who does an  official promo  in    p      bmw ...  \n",
       "3  grotto koth was the bestnot really that memora...  \n",
       "4      neal s back babyjames neal hit on zach parise  "
      ]
     },
     "execution_count": 152,
     "metadata": {},
     "output_type": "execute_result"
    }
   ],
   "source": [
    "df.head()"
   ]
  },
  {
   "cell_type": "code",
   "execution_count": null,
   "metadata": {},
   "outputs": [],
   "source": [
    "## Used TfIdfVectorizer for Vectorizing the comments and parent comments"
   ]
  },
  {
   "cell_type": "code",
   "execution_count": 153,
   "metadata": {},
   "outputs": [],
   "source": [
    "from sklearn.feature_extraction.text import TfidfVectorizer\n",
    "tf= TfidfVectorizer(stop_words='english',ngram_range=(2, 2),max_features=112537 )"
   ]
  },
  {
   "cell_type": "code",
   "execution_count": 154,
   "metadata": {},
   "outputs": [],
   "source": [
    "review =tf.fit_transform(df['final_comment'])"
   ]
  },
  {
   "cell_type": "code",
   "execution_count": 155,
   "metadata": {},
   "outputs": [
    {
     "data": {
      "text/plain": [
       "<15000x112537 sparse matrix of type '<class 'numpy.float64'>'\n",
       "\twith 138009 stored elements in Compressed Sparse Row format>"
      ]
     },
     "execution_count": 155,
     "metadata": {},
     "output_type": "execute_result"
    }
   ],
   "source": [
    "review"
   ]
  },
  {
   "cell_type": "code",
   "execution_count": null,
   "metadata": {},
   "outputs": [],
   "source": []
  },
  {
   "cell_type": "code",
   "execution_count": 156,
   "metadata": {},
   "outputs": [],
   "source": [
    "X=review\n",
    "y=df['label']"
   ]
  },
  {
   "cell_type": "code",
   "execution_count": 157,
   "metadata": {},
   "outputs": [
    {
     "data": {
      "text/plain": [
       "{0, 1}"
      ]
     },
     "execution_count": 157,
     "metadata": {},
     "output_type": "execute_result"
    }
   ],
   "source": [
    "set(y)"
   ]
  },
  {
   "cell_type": "code",
   "execution_count": 101,
   "metadata": {},
   "outputs": [
    {
     "data": {
      "application/javascript": [
       "\n",
       "        if (window._pyforest_update_imports_cell) { window._pyforest_update_imports_cell('import seaborn as sns\\nimport matplotlib.pyplot as plt\\nfrom sklearn.model_selection import train_test_split'); }\n",
       "    "
      ],
      "text/plain": [
       "<IPython.core.display.Javascript object>"
      ]
     },
     "metadata": {},
     "output_type": "display_data"
    }
   ],
   "source": [
    "X_train, X_test,y_train,y_test =train_test_split(review,y,test_size=0.2,random_state=0)"
   ]
  },
  {
   "cell_type": "code",
   "execution_count": 102,
   "metadata": {},
   "outputs": [
    {
     "data": {
      "text/plain": [
       "((12000, 112537), (3000, 112537))"
      ]
     },
     "execution_count": 102,
     "metadata": {},
     "output_type": "execute_result"
    }
   ],
   "source": [
    "X_train.shape, X_test.shape"
   ]
  },
  {
   "cell_type": "code",
   "execution_count": 138,
   "metadata": {},
   "outputs": [
    {
     "name": "stdout",
     "output_type": "stream",
     "text": [
      "1    6039\n",
      "0    5961\n",
      "Name: label, dtype: int64 0    1512\n",
      "1    1488\n",
      "Name: label, dtype: int64\n"
     ]
    }
   ],
   "source": [
    "print(y_train.value_counts() , y_test.value_counts())"
   ]
  },
  {
   "cell_type": "code",
   "execution_count": 103,
   "metadata": {},
   "outputs": [],
   "source": [
    "from sklearn.preprocessing import StandardScaler\n",
    "sc = StandardScaler(with_mean=False)"
   ]
  },
  {
   "cell_type": "code",
   "execution_count": 104,
   "metadata": {},
   "outputs": [],
   "source": [
    "X_train =sc.fit_transform(X_train)\n",
    "X_test =sc.fit_transform(X_test)"
   ]
  },
  {
   "cell_type": "code",
   "execution_count": 105,
   "metadata": {},
   "outputs": [],
   "source": [
    "from sklearn.linear_model import LogisticRegression"
   ]
  },
  {
   "cell_type": "code",
   "execution_count": null,
   "metadata": {},
   "outputs": [],
   "source": [
    "## Logistic Regression is used for this problem statement"
   ]
  },
  {
   "cell_type": "code",
   "execution_count": 106,
   "metadata": {},
   "outputs": [],
   "source": [
    "lr = LogisticRegression()"
   ]
  },
  {
   "cell_type": "code",
   "execution_count": 107,
   "metadata": {},
   "outputs": [
    {
     "name": "stderr",
     "output_type": "stream",
     "text": [
      "D:\\AnacondaDistribution\\lib\\site-packages\\sklearn\\linear_model\\logistic.py:432: FutureWarning: Default solver will be changed to 'lbfgs' in 0.22. Specify a solver to silence this warning.\n",
      "  FutureWarning)\n"
     ]
    },
    {
     "data": {
      "text/plain": [
       "LogisticRegression(C=1.0, class_weight=None, dual=False, fit_intercept=True,\n",
       "                   intercept_scaling=1, l1_ratio=None, max_iter=100,\n",
       "                   multi_class='warn', n_jobs=None, penalty='l2',\n",
       "                   random_state=None, solver='warn', tol=0.0001, verbose=0,\n",
       "                   warm_start=False)"
      ]
     },
     "execution_count": 107,
     "metadata": {},
     "output_type": "execute_result"
    }
   ],
   "source": [
    "lr.fit(X_train,y_train)"
   ]
  },
  {
   "cell_type": "code",
   "execution_count": 108,
   "metadata": {},
   "outputs": [],
   "source": [
    "y_pred = lr.predict(X_test)"
   ]
  },
  {
   "cell_type": "code",
   "execution_count": 109,
   "metadata": {},
   "outputs": [
    {
     "data": {
      "text/plain": [
       "0.5256666666666666"
      ]
     },
     "execution_count": 109,
     "metadata": {},
     "output_type": "execute_result"
    }
   ],
   "source": [
    "lr.score(X_test,y_test)"
   ]
  },
  {
   "cell_type": "code",
   "execution_count": 110,
   "metadata": {},
   "outputs": [
    {
     "data": {
      "application/javascript": [
       "\n",
       "        if (window._pyforest_update_imports_cell) { window._pyforest_update_imports_cell('import seaborn as sns\\nimport matplotlib.pyplot as plt\\nfrom sklearn.model_selection import train_test_split'); }\n",
       "    "
      ],
      "text/plain": [
       "<IPython.core.display.Javascript object>"
      ]
     },
     "metadata": {},
     "output_type": "display_data"
    },
    {
     "data": {
      "text/plain": [
       "Text(51.0, 0.5, 'Actual')"
      ]
     },
     "execution_count": 110,
     "metadata": {},
     "output_type": "execute_result"
    },
    {
     "data": {
      "image/png": "[encoded data removed]",
      "text/plain": [
       "<Figure size 576x432 with 2 Axes>"
      ]
     },
     "metadata": {
      "needs_background": "light"
     },
     "output_type": "display_data"
    }
   ],
   "source": [
    "from sklearn.metrics import confusion_matrix\n",
    "cm =confusion_matrix(y_test,y_pred)\n",
    "plt.figure(figsize=(8,6))\n",
    "sns.heatmap(cm, annot=True, cmap='RdYlGn')\n",
    "plt.xlabel('Predicted')\n",
    "plt.ylabel('Actual')"
   ]
  },
  {
   "cell_type": "code",
   "execution_count": 111,
   "metadata": {},
   "outputs": [],
   "source": [
    "score=100*f1_score(y_test,y_pred,average='weighted')"
   ]
  },
  {
   "cell_type": "code",
   "execution_count": 112,
   "metadata": {},
   "outputs": [
    {
     "name": "stdout",
     "output_type": "stream",
     "text": [
      "47.42577092448464\n"
     ]
    }
   ],
   "source": [
    "print(score)"
   ]
  },
  {
   "cell_type": "code",
   "execution_count": null,
   "metadata": {},
   "outputs": [],
   "source": [
    "## The final F1 score is 47.42"
   ]
  },
  {
   "cell_type": "code",
   "execution_count": 113,
   "metadata": {},
   "outputs": [],
   "source": [
    "## Now test Data"
   ]
  },
  {
   "cell_type": "code",
   "execution_count": 114,
   "metadata": {},
   "outputs": [],
   "source": [
    "df_test= pd.read_csv('D:\\ML\\Hackerearth_submit\\8503d976798f11ea\\Dataset\\Test.csv')"
   ]
  },
  {
   "cell_type": "code",
   "execution_count": 115,
   "metadata": {},
   "outputs": [
    {
     "data": {
      "text/html": [
       "<div>\n",
       "<style scoped>\n",
       "    .dataframe tbody tr th:only-of-type {\n",
       "        vertical-align: middle;\n",
       "    }\n",
       "\n",
       "    .dataframe tbody tr th {\n",
       "        vertical-align: top;\n",
       "    }\n",
       "\n",
       "    .dataframe thead th {\n",
       "        text-align: right;\n",
       "    }\n",
       "</style>\n",
       "<table border=\"1\" class=\"dataframe\">\n",
       "  <thead>\n",
       "    <tr style=\"text-align: right;\">\n",
       "      <th></th>\n",
       "      <th>ID</th>\n",
       "      <th>comment</th>\n",
       "      <th>date</th>\n",
       "      <th>down</th>\n",
       "      <th>parent_comment</th>\n",
       "      <th>score</th>\n",
       "      <th>top</th>\n",
       "      <th>topic</th>\n",
       "      <th>user</th>\n",
       "    </tr>\n",
       "  </thead>\n",
       "  <tbody>\n",
       "    <tr>\n",
       "      <td>0</td>\n",
       "      <td>uid_764784</td>\n",
       "      <td>Meanwhile if I pick my boxer up to move him to...</td>\n",
       "      <td>2016-01</td>\n",
       "      <td>0</td>\n",
       "      <td>Part of the Family Fun</td>\n",
       "      <td>2</td>\n",
       "      <td>2</td>\n",
       "      <td>gifs</td>\n",
       "      <td>Cameltoe-Swampdonkey</td>\n",
       "    </tr>\n",
       "    <tr>\n",
       "      <td>1</td>\n",
       "      <td>uid_67552</td>\n",
       "      <td>Thats what you get for using an unfair advanta...</td>\n",
       "      <td>2015-03</td>\n",
       "      <td>0</td>\n",
       "      <td>received a warning for hacking while overclock...</td>\n",
       "      <td>1</td>\n",
       "      <td>1</td>\n",
       "      <td>h1z1</td>\n",
       "      <td>Gothika_47</td>\n",
       "    </tr>\n",
       "    <tr>\n",
       "      <td>2</td>\n",
       "      <td>uid_240490</td>\n",
       "      <td>only to be later faced with thousands of dolla...</td>\n",
       "      <td>2010-09</td>\n",
       "      <td>0</td>\n",
       "      <td>Running shoes and race entries. I started runn...</td>\n",
       "      <td>1</td>\n",
       "      <td>1</td>\n",
       "      <td>Frugal</td>\n",
       "      <td>tells</td>\n",
       "    </tr>\n",
       "    <tr>\n",
       "      <td>3</td>\n",
       "      <td>uid_56568</td>\n",
       "      <td>What a thoughtful rebuttal to a well articulat...</td>\n",
       "      <td>2015-12</td>\n",
       "      <td>0</td>\n",
       "      <td>Actually, you should get over your self. There...</td>\n",
       "      <td>-1</td>\n",
       "      <td>-1</td>\n",
       "      <td>CFB</td>\n",
       "      <td>YourToothbrush</td>\n",
       "    </tr>\n",
       "    <tr>\n",
       "      <td>4</td>\n",
       "      <td>uid_875860</td>\n",
       "      <td>Yes, major life experiences that demand a grea...</td>\n",
       "      <td>2014-04</td>\n",
       "      <td>0</td>\n",
       "      <td>As a bonus, it was with his ex, months after t...</td>\n",
       "      <td>-5</td>\n",
       "      <td>-5</td>\n",
       "      <td>AdviceAnimals</td>\n",
       "      <td>drunken_trophy_wife</td>\n",
       "    </tr>\n",
       "  </tbody>\n",
       "</table>\n",
       "</div>"
      ],
      "text/plain": [
       "           ID                                            comment     date  \\\n",
       "0  uid_764784  Meanwhile if I pick my boxer up to move him to...  2016-01   \n",
       "1   uid_67552  Thats what you get for using an unfair advanta...  2015-03   \n",
       "2  uid_240490  only to be later faced with thousands of dolla...  2010-09   \n",
       "3   uid_56568  What a thoughtful rebuttal to a well articulat...  2015-12   \n",
       "4  uid_875860  Yes, major life experiences that demand a grea...  2014-04   \n",
       "\n",
       "   down                                     parent_comment  score  top  \\\n",
       "0     0                             Part of the Family Fun      2    2   \n",
       "1     0  received a warning for hacking while overclock...      1    1   \n",
       "2     0  Running shoes and race entries. I started runn...      1    1   \n",
       "3     0  Actually, you should get over your self. There...     -1   -1   \n",
       "4     0  As a bonus, it was with his ex, months after t...     -5   -5   \n",
       "\n",
       "           topic                  user  \n",
       "0           gifs  Cameltoe-Swampdonkey  \n",
       "1           h1z1            Gothika_47  \n",
       "2         Frugal                 tells  \n",
       "3            CFB        YourToothbrush  \n",
       "4  AdviceAnimals   drunken_trophy_wife  "
      ]
     },
     "execution_count": 115,
     "metadata": {},
     "output_type": "execute_result"
    }
   ],
   "source": [
    "df_test.head()"
   ]
  },
  {
   "cell_type": "code",
   "execution_count": 116,
   "metadata": {},
   "outputs": [],
   "source": [
    "data_test = df_train[['comment','parent_comment']]"
   ]
  },
  {
   "cell_type": "code",
   "execution_count": 117,
   "metadata": {},
   "outputs": [
    {
     "name": "stderr",
     "output_type": "stream",
     "text": [
      "D:\\AnacondaDistribution\\lib\\site-packages\\pandas\\core\\frame.py:4263: SettingWithCopyWarning: \n",
      "A value is trying to be set on a copy of a slice from a DataFrame\n",
      "\n",
      "See the caveats in the documentation: http://pandas.pydata.org/pandas-docs/stable/user_guide/indexing.html#returning-a-view-versus-a-copy\n",
      "  method=method,\n"
     ]
    }
   ],
   "source": [
    "data_test.replace('[^a-zA-Z]',' ',regex=True,inplace=True)"
   ]
  },
  {
   "cell_type": "code",
   "execution_count": 118,
   "metadata": {},
   "outputs": [
    {
     "data": {
      "text/html": [
       "<div>\n",
       "<style scoped>\n",
       "    .dataframe tbody tr th:only-of-type {\n",
       "        vertical-align: middle;\n",
       "    }\n",
       "\n",
       "    .dataframe tbody tr th {\n",
       "        vertical-align: top;\n",
       "    }\n",
       "\n",
       "    .dataframe thead th {\n",
       "        text-align: right;\n",
       "    }\n",
       "</style>\n",
       "<table border=\"1\" class=\"dataframe\">\n",
       "  <thead>\n",
       "    <tr style=\"text-align: right;\">\n",
       "      <th></th>\n",
       "      <th>comment</th>\n",
       "      <th>parent_comment</th>\n",
       "    </tr>\n",
       "  </thead>\n",
       "  <tbody>\n",
       "    <tr>\n",
       "      <td>0</td>\n",
       "      <td>Well  let s be honest here  they don t actuall...</td>\n",
       "      <td>They should shut the fuck up and let the commu...</td>\n",
       "    </tr>\n",
       "    <tr>\n",
       "      <td>1</td>\n",
       "      <td>Well  I didn t need evidence to believe in com...</td>\n",
       "      <td>You need evidence to kill people  I thought we...</td>\n",
       "    </tr>\n",
       "    <tr>\n",
       "      <td>2</td>\n",
       "      <td>Who does an  official promo  in    p</td>\n",
       "      <td>BMW S    R  Official Promo</td>\n",
       "    </tr>\n",
       "    <tr>\n",
       "      <td>3</td>\n",
       "      <td>Grotto koth was the best</td>\n",
       "      <td>Not really that memorable lol if you want memo...</td>\n",
       "    </tr>\n",
       "    <tr>\n",
       "      <td>4</td>\n",
       "      <td>Neal s back baby</td>\n",
       "      <td>James Neal hit on Zach Parise</td>\n",
       "    </tr>\n",
       "  </tbody>\n",
       "</table>\n",
       "</div>"
      ],
      "text/plain": [
       "                                             comment  \\\n",
       "0  Well  let s be honest here  they don t actuall...   \n",
       "1  Well  I didn t need evidence to believe in com...   \n",
       "2              Who does an  official promo  in    p    \n",
       "3                           Grotto koth was the best   \n",
       "4                                   Neal s back baby   \n",
       "\n",
       "                                      parent_comment  \n",
       "0  They should shut the fuck up and let the commu...  \n",
       "1  You need evidence to kill people  I thought we...  \n",
       "2                         BMW S    R  Official Promo  \n",
       "3  Not really that memorable lol if you want memo...  \n",
       "4                      James Neal hit on Zach Parise  "
      ]
     },
     "execution_count": 118,
     "metadata": {},
     "output_type": "execute_result"
    }
   ],
   "source": [
    "data_test.head()"
   ]
  },
  {
   "cell_type": "code",
   "execution_count": 119,
   "metadata": {},
   "outputs": [
    {
     "name": "stderr",
     "output_type": "stream",
     "text": [
      "D:\\AnacondaDistribution\\lib\\site-packages\\ipykernel_launcher.py:1: SettingWithCopyWarning: \n",
      "A value is trying to be set on a copy of a slice from a DataFrame.\n",
      "Try using .loc[row_indexer,col_indexer] = value instead\n",
      "\n",
      "See the caveats in the documentation: http://pandas.pydata.org/pandas-docs/stable/user_guide/indexing.html#returning-a-view-versus-a-copy\n",
      "  \"\"\"Entry point for launching an IPython kernel.\n",
      "D:\\AnacondaDistribution\\lib\\site-packages\\ipykernel_launcher.py:2: SettingWithCopyWarning: \n",
      "A value is trying to be set on a copy of a slice from a DataFrame.\n",
      "Try using .loc[row_indexer,col_indexer] = value instead\n",
      "\n",
      "See the caveats in the documentation: http://pandas.pydata.org/pandas-docs/stable/user_guide/indexing.html#returning-a-view-versus-a-copy\n",
      "  \n"
     ]
    }
   ],
   "source": [
    "data_test['comment']=data_test['comment'].str.lower()\n",
    "data_test['parent_comment']=data_test['parent_comment'].str.lower()"
   ]
  },
  {
   "cell_type": "code",
   "execution_count": 120,
   "metadata": {},
   "outputs": [
    {
     "name": "stderr",
     "output_type": "stream",
     "text": [
      "D:\\AnacondaDistribution\\lib\\site-packages\\ipykernel_launcher.py:1: SettingWithCopyWarning: \n",
      "A value is trying to be set on a copy of a slice from a DataFrame.\n",
      "Try using .loc[row_indexer,col_indexer] = value instead\n",
      "\n",
      "See the caveats in the documentation: http://pandas.pydata.org/pandas-docs/stable/user_guide/indexing.html#returning-a-view-versus-a-copy\n",
      "  \"\"\"Entry point for launching an IPython kernel.\n"
     ]
    }
   ],
   "source": [
    "data_test['final_comment']=data_test[['comment','parent_comment']].apply(lambda x : ''.join(x),axis=1)"
   ]
  },
  {
   "cell_type": "code",
   "execution_count": 121,
   "metadata": {},
   "outputs": [
    {
     "data": {
      "text/html": [
       "<div>\n",
       "<style scoped>\n",
       "    .dataframe tbody tr th:only-of-type {\n",
       "        vertical-align: middle;\n",
       "    }\n",
       "\n",
       "    .dataframe tbody tr th {\n",
       "        vertical-align: top;\n",
       "    }\n",
       "\n",
       "    .dataframe thead th {\n",
       "        text-align: right;\n",
       "    }\n",
       "</style>\n",
       "<table border=\"1\" class=\"dataframe\">\n",
       "  <thead>\n",
       "    <tr style=\"text-align: right;\">\n",
       "      <th></th>\n",
       "      <th>comment</th>\n",
       "      <th>parent_comment</th>\n",
       "      <th>final_comment</th>\n",
       "    </tr>\n",
       "  </thead>\n",
       "  <tbody>\n",
       "    <tr>\n",
       "      <td>0</td>\n",
       "      <td>well  let s be honest here  they don t actuall...</td>\n",
       "      <td>they should shut the fuck up and let the commu...</td>\n",
       "      <td>well  let s be honest here  they don t actuall...</td>\n",
       "    </tr>\n",
       "    <tr>\n",
       "      <td>1</td>\n",
       "      <td>well  i didn t need evidence to believe in com...</td>\n",
       "      <td>you need evidence to kill people  i thought we...</td>\n",
       "      <td>well  i didn t need evidence to believe in com...</td>\n",
       "    </tr>\n",
       "    <tr>\n",
       "      <td>2</td>\n",
       "      <td>who does an  official promo  in    p</td>\n",
       "      <td>bmw s    r  official promo</td>\n",
       "      <td>who does an  official promo  in    p      bmw ...</td>\n",
       "    </tr>\n",
       "    <tr>\n",
       "      <td>3</td>\n",
       "      <td>grotto koth was the best</td>\n",
       "      <td>not really that memorable lol if you want memo...</td>\n",
       "      <td>grotto koth was the bestnot really that memora...</td>\n",
       "    </tr>\n",
       "    <tr>\n",
       "      <td>4</td>\n",
       "      <td>neal s back baby</td>\n",
       "      <td>james neal hit on zach parise</td>\n",
       "      <td>neal s back babyjames neal hit on zach parise</td>\n",
       "    </tr>\n",
       "  </tbody>\n",
       "</table>\n",
       "</div>"
      ],
      "text/plain": [
       "                                             comment  \\\n",
       "0  well  let s be honest here  they don t actuall...   \n",
       "1  well  i didn t need evidence to believe in com...   \n",
       "2              who does an  official promo  in    p    \n",
       "3                           grotto koth was the best   \n",
       "4                                   neal s back baby   \n",
       "\n",
       "                                      parent_comment  \\\n",
       "0  they should shut the fuck up and let the commu...   \n",
       "1  you need evidence to kill people  i thought we...   \n",
       "2                         bmw s    r  official promo   \n",
       "3  not really that memorable lol if you want memo...   \n",
       "4                      james neal hit on zach parise   \n",
       "\n",
       "                                       final_comment  \n",
       "0  well  let s be honest here  they don t actuall...  \n",
       "1  well  i didn t need evidence to believe in com...  \n",
       "2  who does an  official promo  in    p      bmw ...  \n",
       "3  grotto koth was the bestnot really that memora...  \n",
       "4      neal s back babyjames neal hit on zach parise  "
      ]
     },
     "execution_count": 121,
     "metadata": {},
     "output_type": "execute_result"
    }
   ],
   "source": [
    "data_test.head()"
   ]
  },
  {
   "cell_type": "code",
   "execution_count": 122,
   "metadata": {},
   "outputs": [],
   "source": [
    "df_test['final_comment']= data_test['final_comment']"
   ]
  },
  {
   "cell_type": "code",
   "execution_count": 123,
   "metadata": {},
   "outputs": [
    {
     "data": {
      "text/html": [
       "<div>\n",
       "<style scoped>\n",
       "    .dataframe tbody tr th:only-of-type {\n",
       "        vertical-align: middle;\n",
       "    }\n",
       "\n",
       "    .dataframe tbody tr th {\n",
       "        vertical-align: top;\n",
       "    }\n",
       "\n",
       "    .dataframe thead th {\n",
       "        text-align: right;\n",
       "    }\n",
       "</style>\n",
       "<table border=\"1\" class=\"dataframe\">\n",
       "  <thead>\n",
       "    <tr style=\"text-align: right;\">\n",
       "      <th></th>\n",
       "      <th>ID</th>\n",
       "      <th>comment</th>\n",
       "      <th>date</th>\n",
       "      <th>down</th>\n",
       "      <th>parent_comment</th>\n",
       "      <th>score</th>\n",
       "      <th>top</th>\n",
       "      <th>topic</th>\n",
       "      <th>user</th>\n",
       "      <th>final_comment</th>\n",
       "    </tr>\n",
       "  </thead>\n",
       "  <tbody>\n",
       "    <tr>\n",
       "      <td>0</td>\n",
       "      <td>uid_764784</td>\n",
       "      <td>Meanwhile if I pick my boxer up to move him to...</td>\n",
       "      <td>2016-01</td>\n",
       "      <td>0</td>\n",
       "      <td>Part of the Family Fun</td>\n",
       "      <td>2</td>\n",
       "      <td>2</td>\n",
       "      <td>gifs</td>\n",
       "      <td>Cameltoe-Swampdonkey</td>\n",
       "      <td>well  let s be honest here  they don t actuall...</td>\n",
       "    </tr>\n",
       "    <tr>\n",
       "      <td>1</td>\n",
       "      <td>uid_67552</td>\n",
       "      <td>Thats what you get for using an unfair advanta...</td>\n",
       "      <td>2015-03</td>\n",
       "      <td>0</td>\n",
       "      <td>received a warning for hacking while overclock...</td>\n",
       "      <td>1</td>\n",
       "      <td>1</td>\n",
       "      <td>h1z1</td>\n",
       "      <td>Gothika_47</td>\n",
       "      <td>well  i didn t need evidence to believe in com...</td>\n",
       "    </tr>\n",
       "    <tr>\n",
       "      <td>2</td>\n",
       "      <td>uid_240490</td>\n",
       "      <td>only to be later faced with thousands of dolla...</td>\n",
       "      <td>2010-09</td>\n",
       "      <td>0</td>\n",
       "      <td>Running shoes and race entries. I started runn...</td>\n",
       "      <td>1</td>\n",
       "      <td>1</td>\n",
       "      <td>Frugal</td>\n",
       "      <td>tells</td>\n",
       "      <td>who does an  official promo  in    p      bmw ...</td>\n",
       "    </tr>\n",
       "    <tr>\n",
       "      <td>3</td>\n",
       "      <td>uid_56568</td>\n",
       "      <td>What a thoughtful rebuttal to a well articulat...</td>\n",
       "      <td>2015-12</td>\n",
       "      <td>0</td>\n",
       "      <td>Actually, you should get over your self. There...</td>\n",
       "      <td>-1</td>\n",
       "      <td>-1</td>\n",
       "      <td>CFB</td>\n",
       "      <td>YourToothbrush</td>\n",
       "      <td>grotto koth was the bestnot really that memora...</td>\n",
       "    </tr>\n",
       "    <tr>\n",
       "      <td>4</td>\n",
       "      <td>uid_875860</td>\n",
       "      <td>Yes, major life experiences that demand a grea...</td>\n",
       "      <td>2014-04</td>\n",
       "      <td>0</td>\n",
       "      <td>As a bonus, it was with his ex, months after t...</td>\n",
       "      <td>-5</td>\n",
       "      <td>-5</td>\n",
       "      <td>AdviceAnimals</td>\n",
       "      <td>drunken_trophy_wife</td>\n",
       "      <td>neal s back babyjames neal hit on zach parise</td>\n",
       "    </tr>\n",
       "  </tbody>\n",
       "</table>\n",
       "</div>"
      ],
      "text/plain": [
       "           ID                                            comment     date  \\\n",
       "0  uid_764784  Meanwhile if I pick my boxer up to move him to...  2016-01   \n",
       "1   uid_67552  Thats what you get for using an unfair advanta...  2015-03   \n",
       "2  uid_240490  only to be later faced with thousands of dolla...  2010-09   \n",
       "3   uid_56568  What a thoughtful rebuttal to a well articulat...  2015-12   \n",
       "4  uid_875860  Yes, major life experiences that demand a grea...  2014-04   \n",
       "\n",
       "   down                                     parent_comment  score  top  \\\n",
       "0     0                             Part of the Family Fun      2    2   \n",
       "1     0  received a warning for hacking while overclock...      1    1   \n",
       "2     0  Running shoes and race entries. I started runn...      1    1   \n",
       "3     0  Actually, you should get over your self. There...     -1   -1   \n",
       "4     0  As a bonus, it was with his ex, months after t...     -5   -5   \n",
       "\n",
       "           topic                  user  \\\n",
       "0           gifs  Cameltoe-Swampdonkey   \n",
       "1           h1z1            Gothika_47   \n",
       "2         Frugal                 tells   \n",
       "3            CFB        YourToothbrush   \n",
       "4  AdviceAnimals   drunken_trophy_wife   \n",
       "\n",
       "                                       final_comment  \n",
       "0  well  let s be honest here  they don t actuall...  \n",
       "1  well  i didn t need evidence to believe in com...  \n",
       "2  who does an  official promo  in    p      bmw ...  \n",
       "3  grotto koth was the bestnot really that memora...  \n",
       "4      neal s back babyjames neal hit on zach parise  "
      ]
     },
     "execution_count": 123,
     "metadata": {},
     "output_type": "execute_result"
    }
   ],
   "source": [
    "df_test.head()"
   ]
  },
  {
   "cell_type": "code",
   "execution_count": 124,
   "metadata": {},
   "outputs": [],
   "source": [
    "from sklearn.feature_extraction.text import TfidfVectorizer\n",
    "tf= TfidfVectorizer(stop_words='english',ngram_range=(2, 2),max_features=112537 )"
   ]
  },
  {
   "cell_type": "code",
   "execution_count": 125,
   "metadata": {},
   "outputs": [],
   "source": [
    "review_test =tf.fit_transform(df_test['final_comment'])"
   ]
  },
  {
   "cell_type": "code",
   "execution_count": 126,
   "metadata": {},
   "outputs": [],
   "source": [
    "X_test_submit=review_test"
   ]
  },
  {
   "cell_type": "code",
   "execution_count": 127,
   "metadata": {},
   "outputs": [],
   "source": [
    "y_test_pred = lr.predict(X_test_submit)"
   ]
  },
  {
   "cell_type": "code",
   "execution_count": 128,
   "metadata": {},
   "outputs": [
    {
     "data": {
      "text/plain": [
       "array([0, 0, 0, ..., 0, 0, 0], dtype=int64)"
      ]
     },
     "execution_count": 128,
     "metadata": {},
     "output_type": "execute_result"
    }
   ],
   "source": [
    "y_test_pred"
   ]
  },
  {
   "cell_type": "code",
   "execution_count": null,
   "metadata": {},
   "outputs": [],
   "source": []
  },
  {
   "cell_type": "code",
   "execution_count": 131,
   "metadata": {},
   "outputs": [],
   "source": [
    "df_test['label']= y_test_pred"
   ]
  },
  {
   "cell_type": "code",
   "execution_count": 132,
   "metadata": {},
   "outputs": [
    {
     "data": {
      "text/html": [
       "<div>\n",
       "<style scoped>\n",
       "    .dataframe tbody tr th:only-of-type {\n",
       "        vertical-align: middle;\n",
       "    }\n",
       "\n",
       "    .dataframe tbody tr th {\n",
       "        vertical-align: top;\n",
       "    }\n",
       "\n",
       "    .dataframe thead th {\n",
       "        text-align: right;\n",
       "    }\n",
       "</style>\n",
       "<table border=\"1\" class=\"dataframe\">\n",
       "  <thead>\n",
       "    <tr style=\"text-align: right;\">\n",
       "      <th></th>\n",
       "      <th>ID</th>\n",
       "      <th>comment</th>\n",
       "      <th>date</th>\n",
       "      <th>down</th>\n",
       "      <th>parent_comment</th>\n",
       "      <th>score</th>\n",
       "      <th>top</th>\n",
       "      <th>topic</th>\n",
       "      <th>user</th>\n",
       "      <th>final_comment</th>\n",
       "      <th>overall</th>\n",
       "      <th>label</th>\n",
       "    </tr>\n",
       "  </thead>\n",
       "  <tbody>\n",
       "    <tr>\n",
       "      <td>0</td>\n",
       "      <td>uid_764784</td>\n",
       "      <td>Meanwhile if I pick my boxer up to move him to...</td>\n",
       "      <td>2016-01</td>\n",
       "      <td>0</td>\n",
       "      <td>Part of the Family Fun</td>\n",
       "      <td>2</td>\n",
       "      <td>2</td>\n",
       "      <td>gifs</td>\n",
       "      <td>Cameltoe-Swampdonkey</td>\n",
       "      <td>well  let s be honest here  they don t actuall...</td>\n",
       "      <td>0</td>\n",
       "      <td>0</td>\n",
       "    </tr>\n",
       "    <tr>\n",
       "      <td>1</td>\n",
       "      <td>uid_67552</td>\n",
       "      <td>Thats what you get for using an unfair advanta...</td>\n",
       "      <td>2015-03</td>\n",
       "      <td>0</td>\n",
       "      <td>received a warning for hacking while overclock...</td>\n",
       "      <td>1</td>\n",
       "      <td>1</td>\n",
       "      <td>h1z1</td>\n",
       "      <td>Gothika_47</td>\n",
       "      <td>well  i didn t need evidence to believe in com...</td>\n",
       "      <td>0</td>\n",
       "      <td>0</td>\n",
       "    </tr>\n",
       "    <tr>\n",
       "      <td>2</td>\n",
       "      <td>uid_240490</td>\n",
       "      <td>only to be later faced with thousands of dolla...</td>\n",
       "      <td>2010-09</td>\n",
       "      <td>0</td>\n",
       "      <td>Running shoes and race entries. I started runn...</td>\n",
       "      <td>1</td>\n",
       "      <td>1</td>\n",
       "      <td>Frugal</td>\n",
       "      <td>tells</td>\n",
       "      <td>who does an  official promo  in    p      bmw ...</td>\n",
       "      <td>0</td>\n",
       "      <td>0</td>\n",
       "    </tr>\n",
       "    <tr>\n",
       "      <td>3</td>\n",
       "      <td>uid_56568</td>\n",
       "      <td>What a thoughtful rebuttal to a well articulat...</td>\n",
       "      <td>2015-12</td>\n",
       "      <td>0</td>\n",
       "      <td>Actually, you should get over your self. There...</td>\n",
       "      <td>-1</td>\n",
       "      <td>-1</td>\n",
       "      <td>CFB</td>\n",
       "      <td>YourToothbrush</td>\n",
       "      <td>grotto koth was the bestnot really that memora...</td>\n",
       "      <td>0</td>\n",
       "      <td>0</td>\n",
       "    </tr>\n",
       "    <tr>\n",
       "      <td>4</td>\n",
       "      <td>uid_875860</td>\n",
       "      <td>Yes, major life experiences that demand a grea...</td>\n",
       "      <td>2014-04</td>\n",
       "      <td>0</td>\n",
       "      <td>As a bonus, it was with his ex, months after t...</td>\n",
       "      <td>-5</td>\n",
       "      <td>-5</td>\n",
       "      <td>AdviceAnimals</td>\n",
       "      <td>drunken_trophy_wife</td>\n",
       "      <td>neal s back babyjames neal hit on zach parise</td>\n",
       "      <td>0</td>\n",
       "      <td>0</td>\n",
       "    </tr>\n",
       "  </tbody>\n",
       "</table>\n",
       "</div>"
      ],
      "text/plain": [
       "           ID                                            comment     date  \\\n",
       "0  uid_764784  Meanwhile if I pick my boxer up to move him to...  2016-01   \n",
       "1   uid_67552  Thats what you get for using an unfair advanta...  2015-03   \n",
       "2  uid_240490  only to be later faced with thousands of dolla...  2010-09   \n",
       "3   uid_56568  What a thoughtful rebuttal to a well articulat...  2015-12   \n",
       "4  uid_875860  Yes, major life experiences that demand a grea...  2014-04   \n",
       "\n",
       "   down                                     parent_comment  score  top  \\\n",
       "0     0                             Part of the Family Fun      2    2   \n",
       "1     0  received a warning for hacking while overclock...      1    1   \n",
       "2     0  Running shoes and race entries. I started runn...      1    1   \n",
       "3     0  Actually, you should get over your self. There...     -1   -1   \n",
       "4     0  As a bonus, it was with his ex, months after t...     -5   -5   \n",
       "\n",
       "           topic                  user  \\\n",
       "0           gifs  Cameltoe-Swampdonkey   \n",
       "1           h1z1            Gothika_47   \n",
       "2         Frugal                 tells   \n",
       "3            CFB        YourToothbrush   \n",
       "4  AdviceAnimals   drunken_trophy_wife   \n",
       "\n",
       "                                       final_comment  overall  label  \n",
       "0  well  let s be honest here  they don t actuall...        0      0  \n",
       "1  well  i didn t need evidence to believe in com...        0      0  \n",
       "2  who does an  official promo  in    p      bmw ...        0      0  \n",
       "3  grotto koth was the bestnot really that memora...        0      0  \n",
       "4      neal s back babyjames neal hit on zach parise        0      0  "
      ]
     },
     "execution_count": 132,
     "metadata": {},
     "output_type": "execute_result"
    }
   ],
   "source": [
    "df_test.head()"
   ]
  },
  {
   "cell_type": "code",
   "execution_count": 133,
   "metadata": {},
   "outputs": [],
   "source": [
    "df_test[['ID','label']].to_csv(r'D:\\ML\\Hackerearth_submit\\8503d976798f11ea\\Dataset\\Arijit_sample_submissionV1.csv',index=False)"
   ]
  },
  {
   "cell_type": "code",
   "execution_count": null,
   "metadata": {},
   "outputs": [],
   "source": []
  }
 ],
 "metadata": {
  "kernelspec": {
   "display_name": "Python 3",
   "language": "python",
   "name": "python3"
  },
  "language_info": {
   "codemirror_mode": {
    "name": "ipython",
    "version": 3
   },
   "file_extension": ".py",
   "mimetype": "text/x-python",
   "name": "python",
   "nbconvert_exporter": "python",
   "pygments_lexer": "ipython3",
   "version": "3.7.4"
  }
 },
 "nbformat": 4,
 "nbformat_minor": 2
}
